{
  "metadata": {
    "kernelspec": {
      "name": "python",
      "display_name": "Python (Pyodide)",
      "language": "python"
    },
    "language_info": {
      "codemirror_mode": {
        "name": "python",
        "version": 3
      },
      "file_extension": ".py",
      "mimetype": "text/x-python",
      "name": "python",
      "nbconvert_exporter": "python",
      "pygments_lexer": "ipython3",
      "version": "3.8"
    }
  },
  "nbformat_minor": 4,
  "nbformat": 4,
  "cells": [
    {
      "cell_type": "code",
      "source": "import pandas",
      "metadata": {
        "trusted": true
      },
      "outputs": [],
      "execution_count": 5
    },
    {
      "cell_type": "code",
      "source": "KB={(\"фрезерування\", \"перевага\", \"висока точність\"),\n    (\"фрезерування\", \"перевага\", \"швидкість обробки\"),\n    (\"фрезерування\", \"недолік\", \"спеціальний інструмент\"),\n    (\"точіння\", \"перевага\", \"швидкість обробки\"),\n    (\"точіння\", \"недолік\", \"нетехнологічність\"),\n    (\"свердління\", \"перевага\", \"універсальність\"),\n    (\"свердління\", \"перевага\", \"швидкість обробки\"),\n    (\"свердління\", \"недолік\", \"низька точність\")}\ndf = pandas.DataFrame(columns=[\"s\",\"p\",\"o\"])\ni=0\nfor s,p,o in KB:\n    df.loc[i]={\"s\":s, \"p\":p, \"o\":o}\n    i+=1\n",
      "metadata": {
        "trusted": true
      },
      "outputs": [],
      "execution_count": 6
    },
    {
      "cell_type": "code",
      "source": "df.to_csv('kb.csv', index=False)",
      "metadata": {
        "trusted": true
      },
      "outputs": [],
      "execution_count": 7
    },
    {
      "cell_type": "code",
      "source": "df = pandas.read_csv('kb.csv')",
      "metadata": {
        "trusted": true
      },
      "outputs": [],
      "execution_count": 8
    },
    {
      "cell_type": "code",
      "source": "df",
      "metadata": {
        "trusted": true
      },
      "outputs": [
        {
          "execution_count": 9,
          "output_type": "execute_result",
          "data": {
            "text/plain": "              s         p                       o\n0    свердління  перевага       швидкість обробки\n1  фрезерування  перевага       швидкість обробки\n2       точіння  перевага       швидкість обробки\n3  фрезерування   недолік  спеціальний інструмент\n4  фрезерування  перевага         висока точність\n5    свердління  перевага         універсальність\n6    свердління   недолік         низька точність\n7       точіння   недолік       нетехнологічність",
            "text/html": "<div>\n<style scoped>\n    .dataframe tbody tr th:only-of-type {\n        vertical-align: middle;\n    }\n\n    .dataframe tbody tr th {\n        vertical-align: top;\n    }\n\n    .dataframe thead th {\n        text-align: right;\n    }\n</style>\n<table border=\"1\" class=\"dataframe\">\n  <thead>\n    <tr style=\"text-align: right;\">\n      <th></th>\n      <th>s</th>\n      <th>p</th>\n      <th>o</th>\n    </tr>\n  </thead>\n  <tbody>\n    <tr>\n      <th>0</th>\n      <td>свердління</td>\n      <td>перевага</td>\n      <td>швидкість обробки</td>\n    </tr>\n    <tr>\n      <th>1</th>\n      <td>фрезерування</td>\n      <td>перевага</td>\n      <td>швидкість обробки</td>\n    </tr>\n    <tr>\n      <th>2</th>\n      <td>точіння</td>\n      <td>перевага</td>\n      <td>швидкість обробки</td>\n    </tr>\n    <tr>\n      <th>3</th>\n      <td>фрезерування</td>\n      <td>недолік</td>\n      <td>спеціальний інструмент</td>\n    </tr>\n    <tr>\n      <th>4</th>\n      <td>фрезерування</td>\n      <td>перевага</td>\n      <td>висока точність</td>\n    </tr>\n    <tr>\n      <th>5</th>\n      <td>свердління</td>\n      <td>перевага</td>\n      <td>універсальність</td>\n    </tr>\n    <tr>\n      <th>6</th>\n      <td>свердління</td>\n      <td>недолік</td>\n      <td>низька точність</td>\n    </tr>\n    <tr>\n      <th>7</th>\n      <td>точіння</td>\n      <td>недолік</td>\n      <td>нетехнологічність</td>\n    </tr>\n  </tbody>\n</table>\n</div>"
          },
          "metadata": {}
        }
      ],
      "execution_count": 9
    },
    {
      "cell_type": "code",
      "source": "",
      "metadata": {
        "trusted": true
      },
      "outputs": [],
      "execution_count": null
    }
  ]
}